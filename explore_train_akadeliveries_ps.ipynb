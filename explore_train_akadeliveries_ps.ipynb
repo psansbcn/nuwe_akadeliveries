{
  "nbformat": 4,
  "nbformat_minor": 0,
  "metadata": {
    "colab": {
      "name": "explore_train_akadeliveries.ipynb",
      "provenance": [],
      "collapsed_sections": []
    },
    "kernelspec": {
      "name": "python3",
      "display_name": "Python 3"
    },
    "language_info": {
      "name": "python"
    }
  },
  "cells": [
    {
      "cell_type": "code",
      "metadata": {
        "id": "8MGRC8lkIRdi"
      },
      "source": [
        "import sys\n",
        "import pandas as pd \n",
        "import seaborn as sns\n",
        "import matplotlib.pyplot as plt\n",
        "%matplotlib inline\n",
        "\n",
        "import warnings\n",
        "warnings.simplefilter('ignore')\n",
        "\n",
        "import numpy as np"
      ],
      "execution_count": null,
      "outputs": []
    },
    {
      "cell_type": "code",
      "metadata": {
        "colab": {
          "base_uri": "https://localhost:8080/",
          "height": 238
        },
        "id": "EiT1Ba-SIdpF",
        "outputId": "58a9a797-d7da-4f6c-d522-0c56dae6606c"
      },
      "source": [
        "df=pd.read_csv('/content/drive/MyDrive/akadelivers/train.csv', index_col=0)\n",
        "df.head()"
      ],
      "execution_count": null,
      "outputs": [
        {
          "output_type": "execute_result",
          "data": {
            "text/html": [
              "<div>\n",
              "<style scoped>\n",
              "    .dataframe tbody tr th:only-of-type {\n",
              "        vertical-align: middle;\n",
              "    }\n",
              "\n",
              "    .dataframe tbody tr th {\n",
              "        vertical-align: top;\n",
              "    }\n",
              "\n",
              "    .dataframe thead th {\n",
              "        text-align: right;\n",
              "    }\n",
              "</style>\n",
              "<table border=\"1\" class=\"dataframe\">\n",
              "  <thead>\n",
              "    <tr style=\"text-align: right;\">\n",
              "      <th></th>\n",
              "      <th>local_time</th>\n",
              "      <th>country_code</th>\n",
              "      <th>store_address</th>\n",
              "      <th>payment_status</th>\n",
              "      <th>n_of_products</th>\n",
              "      <th>products_total</th>\n",
              "      <th>final_status</th>\n",
              "    </tr>\n",
              "    <tr>\n",
              "      <th>order_id</th>\n",
              "      <th></th>\n",
              "      <th></th>\n",
              "      <th></th>\n",
              "      <th></th>\n",
              "      <th></th>\n",
              "      <th></th>\n",
              "      <th></th>\n",
              "    </tr>\n",
              "  </thead>\n",
              "  <tbody>\n",
              "    <tr>\n",
              "      <th>33446280</th>\n",
              "      <td>14:11:09</td>\n",
              "      <td>AR</td>\n",
              "      <td>55379</td>\n",
              "      <td>PAID</td>\n",
              "      <td>2</td>\n",
              "      <td>11.88</td>\n",
              "      <td>DeliveredStatus</td>\n",
              "    </tr>\n",
              "    <tr>\n",
              "      <th>33107339</th>\n",
              "      <td>11:47:41</td>\n",
              "      <td>GT</td>\n",
              "      <td>23487</td>\n",
              "      <td>PAID</td>\n",
              "      <td>2</td>\n",
              "      <td>5.20</td>\n",
              "      <td>DeliveredStatus</td>\n",
              "    </tr>\n",
              "    <tr>\n",
              "      <th>32960645</th>\n",
              "      <td>11:53:53</td>\n",
              "      <td>CR</td>\n",
              "      <td>62229</td>\n",
              "      <td>PAID</td>\n",
              "      <td>1</td>\n",
              "      <td>6.03</td>\n",
              "      <td>DeliveredStatus</td>\n",
              "    </tr>\n",
              "    <tr>\n",
              "      <th>32089564</th>\n",
              "      <td>20:15:21</td>\n",
              "      <td>ES</td>\n",
              "      <td>29446</td>\n",
              "      <td>PAID</td>\n",
              "      <td>6</td>\n",
              "      <td>6.37</td>\n",
              "      <td>DeliveredStatus</td>\n",
              "    </tr>\n",
              "    <tr>\n",
              "      <th>32157739</th>\n",
              "      <td>21:32:16</td>\n",
              "      <td>AR</td>\n",
              "      <td>13917</td>\n",
              "      <td>PAID</td>\n",
              "      <td>1</td>\n",
              "      <td>5.36</td>\n",
              "      <td>CanceledStatus</td>\n",
              "    </tr>\n",
              "  </tbody>\n",
              "</table>\n",
              "</div>"
            ],
            "text/plain": [
              "         local_time country_code  ...  products_total     final_status\n",
              "order_id                          ...                                 \n",
              "33446280   14:11:09           AR  ...           11.88  DeliveredStatus\n",
              "33107339   11:47:41           GT  ...            5.20  DeliveredStatus\n",
              "32960645   11:53:53           CR  ...            6.03  DeliveredStatus\n",
              "32089564   20:15:21           ES  ...            6.37  DeliveredStatus\n",
              "32157739   21:32:16           AR  ...            5.36   CanceledStatus\n",
              "\n",
              "[5 rows x 7 columns]"
            ]
          },
          "metadata": {},
          "execution_count": 294
        }
      ]
    },
    {
      "cell_type": "code",
      "metadata": {
        "colab": {
          "base_uri": "https://localhost:8080/"
        },
        "id": "xwooEeSuKYpp",
        "outputId": "6111d3e5-4873-4cd0-8d1c-2f7b4aa0d94e"
      },
      "source": [
        "df.isnull().sum()"
      ],
      "execution_count": null,
      "outputs": [
        {
          "output_type": "execute_result",
          "data": {
            "text/plain": [
              "local_time        0\n",
              "country_code      0\n",
              "store_address     0\n",
              "payment_status    0\n",
              "n_of_products     0\n",
              "products_total    0\n",
              "final_status      0\n",
              "dtype: int64"
            ]
          },
          "metadata": {},
          "execution_count": 295
        }
      ]
    },
    {
      "cell_type": "code",
      "metadata": {
        "id": "KvSkAvnyNLN8"
      },
      "source": [
        "# convert local_time hour format\n",
        "df['local_time']=df['local_time'].str[:2].astype(int)"
      ],
      "execution_count": null,
      "outputs": []
    },
    {
      "cell_type": "markdown",
      "metadata": {
        "id": "KUUiNw__NnY9"
      },
      "source": [
        "### Find distributions"
      ]
    },
    {
      "cell_type": "code",
      "metadata": {
        "colab": {
          "base_uri": "https://localhost:8080/",
          "height": 570
        },
        "id": "AaWbaC-oSB5X",
        "outputId": "034b65c2-1c63-4a2e-ad8d-051e3d76fa7b"
      },
      "source": [
        "fig, ax = plt.subplots(4,1,figsize=(19,9))\n",
        "\n",
        "sns.boxplot(x=df[\"n_of_products\"], ax=ax[0], color='g')\n",
        "\n",
        "sns.boxplot(x=df[\"products_total\"], ax=ax[1], color='y')\n",
        "\n",
        "sns.boxplot(x=df[\"local_time\"], ax=ax[2], color='b')\n",
        "\n",
        "sns.boxplot(x=df[\"store_address\"], ax=ax[3], color='c')"
      ],
      "execution_count": null,
      "outputs": [
        {
          "output_type": "execute_result",
          "data": {
            "text/plain": [
              "<matplotlib.axes._subplots.AxesSubplot at 0x7f5936ad5710>"
            ]
          },
          "metadata": {},
          "execution_count": 270
        },
        {
          "output_type": "display_data",
          "data": {
            "image/png": "[encoded data removed]",
            "text/plain": [
              "<Figure size 1368x648 with 4 Axes>"
            ]
          },
          "metadata": {
            "needs_background": "light"
          }
        }
      ]
    },
    {
      "cell_type": "code",
      "metadata": {
        "id": "9jHuTGbmSPyW"
      },
      "source": [
        "#Transform some categorical columns to float or binary\n",
        "\n",
        "def payment(n):\n",
        "    if n == 'PAID':\n",
        "        return 1\n",
        "    elif n == 'NOT_PAID':\n",
        "        return 0\n",
        "    else:\n",
        "        return 0.5\n",
        "    \n",
        "df['payment_status'] = df['payment_status'].apply(payment)\n",
        "\n",
        "def deliver(n):\n",
        "    if n == 'DeliveredStatus':\n",
        "        return 1\n",
        "    else:\n",
        "        return 0\n",
        "    \n",
        "df['final_status'] = df['final_status'].apply(deliver)"
      ],
      "execution_count": null,
      "outputs": []
    },
    {
      "cell_type": "code",
      "metadata": {
        "colab": {
          "base_uri": "https://localhost:8080/",
          "height": 502
        },
        "id": "6dJPVxfWSg27",
        "outputId": "7808a5bd-4435-45f6-ac43-b273d2cae44b"
      },
      "source": [
        "# check correlation to discard columns if necessary\n",
        "corr = df.corr()\n",
        "cmap = sns.light_palette(\"#0c2a70\", as_cmap=True)\n",
        "mask = np.triu(corr)\n",
        "plt.figure(figsize=(19,8))\n",
        "sns.heatmap(corr, cmap='vlag', annot=True, linewidths=0.5, center=0.05, cbar=False, xticklabels=True, mask=mask)"
      ],
      "execution_count": null,
      "outputs": [
        {
          "output_type": "execute_result",
          "data": {
            "text/plain": [
              "<matplotlib.axes._subplots.AxesSubplot at 0x7f59369e9850>"
            ]
          },
          "metadata": {},
          "execution_count": 272
        },
        {
          "output_type": "display_data",
          "data": {
            "image/png": "[encoded data removed]",
            "text/plain": [
              "<Figure size 1368x576 with 1 Axes>"
            ]
          },
          "metadata": {
            "needs_background": "light"
          }
        }
      ]
    },
    {
      "cell_type": "markdown",
      "metadata": {
        "id": "p82-LB5CSobQ"
      },
      "source": [
        "### Process columns"
      ]
    },
    {
      "cell_type": "code",
      "metadata": {
        "id": "yu9RA8Z7Sk5r"
      },
      "source": [
        "#cyclical features\n",
        "\n",
        "# local_time\n",
        "\n",
        "def sin(xxx):\n",
        "  yy=np.sin((xxx)*(2.*np.pi/24))\n",
        "  return yy\n",
        "df['hour_sin']=df['local_time'].apply(sin)\n",
        "\n",
        "def cos(xxx):\n",
        "  yy=np.cos((xxx)*(2.*np.pi/24))\n",
        "  return yy\n",
        "df['hour_cos']=df['local_time'].apply(sin)\n",
        "\n",
        "df.drop(['local_time'], axis=1, inplace=True)"
      ],
      "execution_count": null,
      "outputs": []
    },
    {
      "cell_type": "code",
      "metadata": {
        "id": "Iwwz-MRSSrLy"
      },
      "source": [
        "\n",
        "from sklearn.preprocessing import MinMaxScaler, RobustScaler, OneHotEncoder\n",
        "\n",
        "scaler = MinMaxScaler(feature_range=(0,1))\n",
        "df[['store_address']] = scaler.fit_transform(df[['store_address']])\n",
        "\n",
        "outscaler = MinMaxScaler(feature_range=(0,1))\n",
        "df[['n_of_products','products_total']] = outscaler.fit_transform(df[['n_of_products','products_total']])"
      ],
      "execution_count": null,
      "outputs": []
    },
    {
      "cell_type": "code",
      "metadata": {
        "id": "uTBD-bZ6S3F6"
      },
      "source": [
        "#Get dummies for countries\n",
        "\n",
        "one_hot = pd.get_dummies(df['country_code'])\n",
        "# Drop column B as it is now encoded\n",
        "df = df.drop('country_code',axis = 1)\n",
        "# Join the encoded df\n",
        "df = df.join(one_hot)"
      ],
      "execution_count": null,
      "outputs": []
    },
    {
      "cell_type": "code",
      "metadata": {
        "colab": {
          "base_uri": "https://localhost:8080/",
          "height": 258
        },
        "id": "GEBYcFa6S54J",
        "outputId": "fc4fa514-5b88-4291-c7f1-ac6173f7f849"
      },
      "source": [
        "df.head()\n"
      ],
      "execution_count": null,
      "outputs": [
        {
          "output_type": "execute_result",
          "data": {
            "text/html": [
              "<div>\n",
              "<style scoped>\n",
              "    .dataframe tbody tr th:only-of-type {\n",
              "        vertical-align: middle;\n",
              "    }\n",
              "\n",
              "    .dataframe tbody tr th {\n",
              "        vertical-align: top;\n",
              "    }\n",
              "\n",
              "    .dataframe thead th {\n",
              "        text-align: right;\n",
              "    }\n",
              "</style>\n",
              "<table border=\"1\" class=\"dataframe\">\n",
              "  <thead>\n",
              "    <tr style=\"text-align: right;\">\n",
              "      <th></th>\n",
              "      <th>store_address</th>\n",
              "      <th>payment_status</th>\n",
              "      <th>n_of_products</th>\n",
              "      <th>products_total</th>\n",
              "      <th>final_status</th>\n",
              "      <th>hour_sin</th>\n",
              "      <th>hour_cos</th>\n",
              "      <th>AR</th>\n",
              "      <th>BR</th>\n",
              "      <th>CI</th>\n",
              "      <th>CL</th>\n",
              "      <th>CR</th>\n",
              "      <th>DO</th>\n",
              "      <th>EC</th>\n",
              "      <th>EG</th>\n",
              "      <th>ES</th>\n",
              "      <th>FR</th>\n",
              "      <th>GE</th>\n",
              "      <th>GT</th>\n",
              "      <th>IT</th>\n",
              "      <th>KE</th>\n",
              "      <th>MA</th>\n",
              "      <th>PA</th>\n",
              "      <th>PE</th>\n",
              "      <th>PR</th>\n",
              "      <th>PT</th>\n",
              "      <th>RO</th>\n",
              "      <th>TR</th>\n",
              "      <th>UA</th>\n",
              "      <th>UY</th>\n",
              "    </tr>\n",
              "    <tr>\n",
              "      <th>order_id</th>\n",
              "      <th></th>\n",
              "      <th></th>\n",
              "      <th></th>\n",
              "      <th></th>\n",
              "      <th></th>\n",
              "      <th></th>\n",
              "      <th></th>\n",
              "      <th></th>\n",
              "      <th></th>\n",
              "      <th></th>\n",
              "      <th></th>\n",
              "      <th></th>\n",
              "      <th></th>\n",
              "      <th></th>\n",
              "      <th></th>\n",
              "      <th></th>\n",
              "      <th></th>\n",
              "      <th></th>\n",
              "      <th></th>\n",
              "      <th></th>\n",
              "      <th></th>\n",
              "      <th></th>\n",
              "      <th></th>\n",
              "      <th></th>\n",
              "      <th></th>\n",
              "      <th></th>\n",
              "      <th></th>\n",
              "      <th></th>\n",
              "      <th></th>\n",
              "      <th></th>\n",
              "    </tr>\n",
              "  </thead>\n",
              "  <tbody>\n",
              "    <tr>\n",
              "      <th>33446280</th>\n",
              "      <td>0.74</td>\n",
              "      <td>1.00</td>\n",
              "      <td>0.03</td>\n",
              "      <td>0.05</td>\n",
              "      <td>1</td>\n",
              "      <td>-0.50</td>\n",
              "      <td>-0.50</td>\n",
              "      <td>1</td>\n",
              "      <td>0</td>\n",
              "      <td>0</td>\n",
              "      <td>0</td>\n",
              "      <td>0</td>\n",
              "      <td>0</td>\n",
              "      <td>0</td>\n",
              "      <td>0</td>\n",
              "      <td>0</td>\n",
              "      <td>0</td>\n",
              "      <td>0</td>\n",
              "      <td>0</td>\n",
              "      <td>0</td>\n",
              "      <td>0</td>\n",
              "      <td>0</td>\n",
              "      <td>0</td>\n",
              "      <td>0</td>\n",
              "      <td>0</td>\n",
              "      <td>0</td>\n",
              "      <td>0</td>\n",
              "      <td>0</td>\n",
              "      <td>0</td>\n",
              "      <td>0</td>\n",
              "    </tr>\n",
              "    <tr>\n",
              "      <th>33107339</th>\n",
              "      <td>0.31</td>\n",
              "      <td>1.00</td>\n",
              "      <td>0.03</td>\n",
              "      <td>0.02</td>\n",
              "      <td>1</td>\n",
              "      <td>0.26</td>\n",
              "      <td>0.26</td>\n",
              "      <td>0</td>\n",
              "      <td>0</td>\n",
              "      <td>0</td>\n",
              "      <td>0</td>\n",
              "      <td>0</td>\n",
              "      <td>0</td>\n",
              "      <td>0</td>\n",
              "      <td>0</td>\n",
              "      <td>0</td>\n",
              "      <td>0</td>\n",
              "      <td>0</td>\n",
              "      <td>1</td>\n",
              "      <td>0</td>\n",
              "      <td>0</td>\n",
              "      <td>0</td>\n",
              "      <td>0</td>\n",
              "      <td>0</td>\n",
              "      <td>0</td>\n",
              "      <td>0</td>\n",
              "      <td>0</td>\n",
              "      <td>0</td>\n",
              "      <td>0</td>\n",
              "      <td>0</td>\n",
              "    </tr>\n",
              "    <tr>\n",
              "      <th>32960645</th>\n",
              "      <td>0.83</td>\n",
              "      <td>1.00</td>\n",
              "      <td>0.00</td>\n",
              "      <td>0.03</td>\n",
              "      <td>1</td>\n",
              "      <td>0.26</td>\n",
              "      <td>0.26</td>\n",
              "      <td>0</td>\n",
              "      <td>0</td>\n",
              "      <td>0</td>\n",
              "      <td>0</td>\n",
              "      <td>1</td>\n",
              "      <td>0</td>\n",
              "      <td>0</td>\n",
              "      <td>0</td>\n",
              "      <td>0</td>\n",
              "      <td>0</td>\n",
              "      <td>0</td>\n",
              "      <td>0</td>\n",
              "      <td>0</td>\n",
              "      <td>0</td>\n",
              "      <td>0</td>\n",
              "      <td>0</td>\n",
              "      <td>0</td>\n",
              "      <td>0</td>\n",
              "      <td>0</td>\n",
              "      <td>0</td>\n",
              "      <td>0</td>\n",
              "      <td>0</td>\n",
              "      <td>0</td>\n",
              "    </tr>\n",
              "    <tr>\n",
              "      <th>32089564</th>\n",
              "      <td>0.39</td>\n",
              "      <td>1.00</td>\n",
              "      <td>0.13</td>\n",
              "      <td>0.03</td>\n",
              "      <td>1</td>\n",
              "      <td>-0.87</td>\n",
              "      <td>-0.87</td>\n",
              "      <td>0</td>\n",
              "      <td>0</td>\n",
              "      <td>0</td>\n",
              "      <td>0</td>\n",
              "      <td>0</td>\n",
              "      <td>0</td>\n",
              "      <td>0</td>\n",
              "      <td>0</td>\n",
              "      <td>1</td>\n",
              "      <td>0</td>\n",
              "      <td>0</td>\n",
              "      <td>0</td>\n",
              "      <td>0</td>\n",
              "      <td>0</td>\n",
              "      <td>0</td>\n",
              "      <td>0</td>\n",
              "      <td>0</td>\n",
              "      <td>0</td>\n",
              "      <td>0</td>\n",
              "      <td>0</td>\n",
              "      <td>0</td>\n",
              "      <td>0</td>\n",
              "      <td>0</td>\n",
              "    </tr>\n",
              "    <tr>\n",
              "      <th>32157739</th>\n",
              "      <td>0.18</td>\n",
              "      <td>1.00</td>\n",
              "      <td>0.00</td>\n",
              "      <td>0.02</td>\n",
              "      <td>0</td>\n",
              "      <td>-0.71</td>\n",
              "      <td>-0.71</td>\n",
              "      <td>1</td>\n",
              "      <td>0</td>\n",
              "      <td>0</td>\n",
              "      <td>0</td>\n",
              "      <td>0</td>\n",
              "      <td>0</td>\n",
              "      <td>0</td>\n",
              "      <td>0</td>\n",
              "      <td>0</td>\n",
              "      <td>0</td>\n",
              "      <td>0</td>\n",
              "      <td>0</td>\n",
              "      <td>0</td>\n",
              "      <td>0</td>\n",
              "      <td>0</td>\n",
              "      <td>0</td>\n",
              "      <td>0</td>\n",
              "      <td>0</td>\n",
              "      <td>0</td>\n",
              "      <td>0</td>\n",
              "      <td>0</td>\n",
              "      <td>0</td>\n",
              "      <td>0</td>\n",
              "    </tr>\n",
              "  </tbody>\n",
              "</table>\n",
              "</div>"
            ],
            "text/plain": [
              "          store_address  payment_status  n_of_products  ...  TR  UA  UY\n",
              "order_id                                                ...            \n",
              "33446280           0.74            1.00           0.03  ...   0   0   0\n",
              "33107339           0.31            1.00           0.03  ...   0   0   0\n",
              "32960645           0.83            1.00           0.00  ...   0   0   0\n",
              "32089564           0.39            1.00           0.13  ...   0   0   0\n",
              "32157739           0.18            1.00           0.00  ...   0   0   0\n",
              "\n",
              "[5 rows x 30 columns]"
            ]
          },
          "metadata": {},
          "execution_count": 276
        }
      ]
    },
    {
      "cell_type": "code",
      "metadata": {
        "colab": {
          "base_uri": "https://localhost:8080/"
        },
        "id": "YcxvqCdNj6Qe",
        "outputId": "1f5f86e6-6106-4975-daa5-95bdb10ad1bb"
      },
      "source": [
        "df.shape"
      ],
      "execution_count": null,
      "outputs": [
        {
          "output_type": "execute_result",
          "data": {
            "text/plain": [
              "(54330, 30)"
            ]
          },
          "metadata": {},
          "execution_count": 191
        }
      ]
    },
    {
      "cell_type": "code",
      "metadata": {
        "id": "i5UvoO0cUia9"
      },
      "source": [
        "#move column to end\n",
        "column_to_move = df.pop(\"final_status\")\n",
        "df.insert(len(df.columns), \"final_status\", column_to_move)"
      ],
      "execution_count": null,
      "outputs": []
    },
    {
      "cell_type": "code",
      "metadata": {
        "id": "YsFgylw7u_Jb",
        "colab": {
          "base_uri": "https://localhost:8080/"
        },
        "outputId": "9cbf83e8-54f0-47bf-8f85-886998cb3b1e"
      },
      "source": [
        "df['final_status'].value_counts()"
      ],
      "execution_count": null,
      "outputs": [
        {
          "output_type": "execute_result",
          "data": {
            "text/plain": [
              "1    48498\n",
              "0     5832\n",
              "Name: final_status, dtype: int64"
            ]
          },
          "metadata": {},
          "execution_count": 278
        }
      ]
    },
    {
      "cell_type": "markdown",
      "metadata": {
        "id": "UfO7KbVQU153"
      },
      "source": [
        "### Pre process test database"
      ]
    },
    {
      "cell_type": "code",
      "metadata": {
        "colab": {
          "base_uri": "https://localhost:8080/",
          "height": 238
        },
        "id": "pbQw0Z9ZUzbl",
        "outputId": "818c75a9-bb1d-4a6b-e365-51fadc5c7b80"
      },
      "source": [
        "dftest=pd.read_csv('/content/drive/MyDrive/akadelivers/test_X.csv', index_col=0, sep=';')\n",
        "dftest.head()"
      ],
      "execution_count": null,
      "outputs": [
        {
          "output_type": "execute_result",
          "data": {
            "text/html": [
              "<div>\n",
              "<style scoped>\n",
              "    .dataframe tbody tr th:only-of-type {\n",
              "        vertical-align: middle;\n",
              "    }\n",
              "\n",
              "    .dataframe tbody tr th {\n",
              "        vertical-align: top;\n",
              "    }\n",
              "\n",
              "    .dataframe thead th {\n",
              "        text-align: right;\n",
              "    }\n",
              "</style>\n",
              "<table border=\"1\" class=\"dataframe\">\n",
              "  <thead>\n",
              "    <tr style=\"text-align: right;\">\n",
              "      <th></th>\n",
              "      <th>local_time</th>\n",
              "      <th>country_code</th>\n",
              "      <th>store_address</th>\n",
              "      <th>payment_status</th>\n",
              "      <th>n_of_products</th>\n",
              "      <th>products_total</th>\n",
              "    </tr>\n",
              "    <tr>\n",
              "      <th>order_id</th>\n",
              "      <th></th>\n",
              "      <th></th>\n",
              "      <th></th>\n",
              "      <th></th>\n",
              "      <th></th>\n",
              "      <th></th>\n",
              "    </tr>\n",
              "  </thead>\n",
              "  <tbody>\n",
              "    <tr>\n",
              "      <th>32233784</th>\n",
              "      <td>17:50:09</td>\n",
              "      <td>MA</td>\n",
              "      <td>68169</td>\n",
              "      <td>PAID</td>\n",
              "      <td>1</td>\n",
              "      <td>61.63</td>\n",
              "    </tr>\n",
              "    <tr>\n",
              "      <th>32240990</th>\n",
              "      <td>18:38:08</td>\n",
              "      <td>ES</td>\n",
              "      <td>8220</td>\n",
              "      <td>PAID</td>\n",
              "      <td>11</td>\n",
              "      <td>15.99</td>\n",
              "    </tr>\n",
              "    <tr>\n",
              "      <th>33331821</th>\n",
              "      <td>22:11:59</td>\n",
              "      <td>IT</td>\n",
              "      <td>11169</td>\n",
              "      <td>PAID</td>\n",
              "      <td>4</td>\n",
              "      <td>5.89</td>\n",
              "    </tr>\n",
              "    <tr>\n",
              "      <th>33200505</th>\n",
              "      <td>22:13:55</td>\n",
              "      <td>AR</td>\n",
              "      <td>33371</td>\n",
              "      <td>PAID</td>\n",
              "      <td>3</td>\n",
              "      <td>7.85</td>\n",
              "    </tr>\n",
              "    <tr>\n",
              "      <th>32527480</th>\n",
              "      <td>12:01:04</td>\n",
              "      <td>TR</td>\n",
              "      <td>33958</td>\n",
              "      <td>PAID</td>\n",
              "      <td>2</td>\n",
              "      <td>4.75</td>\n",
              "    </tr>\n",
              "  </tbody>\n",
              "</table>\n",
              "</div>"
            ],
            "text/plain": [
              "         local_time country_code  ...  n_of_products products_total\n",
              "order_id                          ...                              \n",
              "32233784   17:50:09           MA  ...              1          61.63\n",
              "32240990   18:38:08           ES  ...             11          15.99\n",
              "33331821   22:11:59           IT  ...              4           5.89\n",
              "33200505   22:13:55           AR  ...              3           7.85\n",
              "32527480   12:01:04           TR  ...              2           4.75\n",
              "\n",
              "[5 rows x 6 columns]"
            ]
          },
          "metadata": {},
          "execution_count": 280
        }
      ]
    },
    {
      "cell_type": "code",
      "metadata": {
        "id": "nYzkHDALU4bK"
      },
      "source": [
        "# convert local_time hour format\n",
        "dftest['local_time']=dftest['local_time'].str[:2].astype(int)\n",
        "\n",
        "#Transform some categorical columns to float \n",
        "def payment(n):\n",
        "    if n == 'PAID':\n",
        "        return 1\n",
        "    elif n == 'NOT_PAID':\n",
        "        return 0\n",
        "    else:\n",
        "        return 0.5\n",
        "    \n",
        "dftest['payment_status'] = dftest['payment_status'].apply(payment)\n",
        "\n",
        "# cyclical features\n",
        "# local_time\n",
        "dftest['hour_sin']=dftest['local_time'].apply(sin)\n",
        "dftest['hour_cos']=dftest['local_time'].apply(sin)\n",
        "\n",
        "dftest.drop(['local_time'], axis=1, inplace=True)\n",
        "\n",
        "scaler = MinMaxScaler(feature_range=(0,1))\n",
        "dftest[['store_address']] = scaler.fit_transform(dftest[['store_address']])\n",
        "\n",
        "outscaler = MinMaxScaler(feature_range=(0,1))\n",
        "dftest[['n_of_products','products_total']] = outscaler.fit_transform(dftest[['n_of_products','products_total']])\n",
        "\n",
        "#Get dummies for countries\n",
        "\n",
        "one_hot1 = pd.get_dummies(dftest['country_code'])\n",
        "# Drop column B as it is now encoded\n",
        "dftest = dftest.drop('country_code',axis = 1)\n",
        "# Join the encoded df\n",
        "dftest = dftest.join(one_hot1)\n"
      ],
      "execution_count": null,
      "outputs": []
    },
    {
      "cell_type": "code",
      "metadata": {
        "colab": {
          "base_uri": "https://localhost:8080/",
          "height": 238
        },
        "id": "Ca_w25V3WIM5",
        "outputId": "6db97d01-8867-4f8f-f0c6-384b6a5392dd"
      },
      "source": [
        "dftest.head()"
      ],
      "execution_count": null,
      "outputs": [
        {
          "output_type": "execute_result",
          "data": {
            "text/html": [
              "<div>\n",
              "<style scoped>\n",
              "    .dataframe tbody tr th:only-of-type {\n",
              "        vertical-align: middle;\n",
              "    }\n",
              "\n",
              "    .dataframe tbody tr th {\n",
              "        vertical-align: top;\n",
              "    }\n",
              "\n",
              "    .dataframe thead th {\n",
              "        text-align: right;\n",
              "    }\n",
              "</style>\n",
              "<table border=\"1\" class=\"dataframe\">\n",
              "  <thead>\n",
              "    <tr style=\"text-align: right;\">\n",
              "      <th></th>\n",
              "      <th>store_address</th>\n",
              "      <th>payment_status</th>\n",
              "      <th>n_of_products</th>\n",
              "      <th>products_total</th>\n",
              "      <th>hour_sin</th>\n",
              "      <th>hour_cos</th>\n",
              "      <th>AR</th>\n",
              "      <th>DO</th>\n",
              "      <th>EC</th>\n",
              "      <th>EG</th>\n",
              "      <th>ES</th>\n",
              "      <th>FR</th>\n",
              "      <th>IT</th>\n",
              "      <th>MA</th>\n",
              "      <th>PA</th>\n",
              "      <th>PE</th>\n",
              "      <th>TR</th>\n",
              "      <th>UA</th>\n",
              "    </tr>\n",
              "    <tr>\n",
              "      <th>order_id</th>\n",
              "      <th></th>\n",
              "      <th></th>\n",
              "      <th></th>\n",
              "      <th></th>\n",
              "      <th></th>\n",
              "      <th></th>\n",
              "      <th></th>\n",
              "      <th></th>\n",
              "      <th></th>\n",
              "      <th></th>\n",
              "      <th></th>\n",
              "      <th></th>\n",
              "      <th></th>\n",
              "      <th></th>\n",
              "      <th></th>\n",
              "      <th></th>\n",
              "      <th></th>\n",
              "      <th></th>\n",
              "    </tr>\n",
              "  </thead>\n",
              "  <tbody>\n",
              "    <tr>\n",
              "      <th>32233784</th>\n",
              "      <td>0.96</td>\n",
              "      <td>1</td>\n",
              "      <td>0.00</td>\n",
              "      <td>1.00</td>\n",
              "      <td>-0.97</td>\n",
              "      <td>-0.97</td>\n",
              "      <td>0</td>\n",
              "      <td>0</td>\n",
              "      <td>0</td>\n",
              "      <td>0</td>\n",
              "      <td>0</td>\n",
              "      <td>0</td>\n",
              "      <td>0</td>\n",
              "      <td>1</td>\n",
              "      <td>0</td>\n",
              "      <td>0</td>\n",
              "      <td>0</td>\n",
              "      <td>0</td>\n",
              "    </tr>\n",
              "    <tr>\n",
              "      <th>32240990</th>\n",
              "      <td>0.07</td>\n",
              "      <td>1</td>\n",
              "      <td>1.00</td>\n",
              "      <td>0.25</td>\n",
              "      <td>-1.00</td>\n",
              "      <td>-1.00</td>\n",
              "      <td>0</td>\n",
              "      <td>0</td>\n",
              "      <td>0</td>\n",
              "      <td>0</td>\n",
              "      <td>1</td>\n",
              "      <td>0</td>\n",
              "      <td>0</td>\n",
              "      <td>0</td>\n",
              "      <td>0</td>\n",
              "      <td>0</td>\n",
              "      <td>0</td>\n",
              "      <td>0</td>\n",
              "    </tr>\n",
              "    <tr>\n",
              "      <th>33331821</th>\n",
              "      <td>0.11</td>\n",
              "      <td>1</td>\n",
              "      <td>0.30</td>\n",
              "      <td>0.08</td>\n",
              "      <td>-0.50</td>\n",
              "      <td>-0.50</td>\n",
              "      <td>0</td>\n",
              "      <td>0</td>\n",
              "      <td>0</td>\n",
              "      <td>0</td>\n",
              "      <td>0</td>\n",
              "      <td>0</td>\n",
              "      <td>1</td>\n",
              "      <td>0</td>\n",
              "      <td>0</td>\n",
              "      <td>0</td>\n",
              "      <td>0</td>\n",
              "      <td>0</td>\n",
              "    </tr>\n",
              "    <tr>\n",
              "      <th>33200505</th>\n",
              "      <td>0.44</td>\n",
              "      <td>1</td>\n",
              "      <td>0.20</td>\n",
              "      <td>0.12</td>\n",
              "      <td>-0.50</td>\n",
              "      <td>-0.50</td>\n",
              "      <td>1</td>\n",
              "      <td>0</td>\n",
              "      <td>0</td>\n",
              "      <td>0</td>\n",
              "      <td>0</td>\n",
              "      <td>0</td>\n",
              "      <td>0</td>\n",
              "      <td>0</td>\n",
              "      <td>0</td>\n",
              "      <td>0</td>\n",
              "      <td>0</td>\n",
              "      <td>0</td>\n",
              "    </tr>\n",
              "    <tr>\n",
              "      <th>32527480</th>\n",
              "      <td>0.45</td>\n",
              "      <td>1</td>\n",
              "      <td>0.10</td>\n",
              "      <td>0.07</td>\n",
              "      <td>0.00</td>\n",
              "      <td>0.00</td>\n",
              "      <td>0</td>\n",
              "      <td>0</td>\n",
              "      <td>0</td>\n",
              "      <td>0</td>\n",
              "      <td>0</td>\n",
              "      <td>0</td>\n",
              "      <td>0</td>\n",
              "      <td>0</td>\n",
              "      <td>0</td>\n",
              "      <td>0</td>\n",
              "      <td>1</td>\n",
              "      <td>0</td>\n",
              "    </tr>\n",
              "  </tbody>\n",
              "</table>\n",
              "</div>"
            ],
            "text/plain": [
              "          store_address  payment_status  n_of_products  ...  PE  TR  UA\n",
              "order_id                                                ...            \n",
              "32233784           0.96               1           0.00  ...   0   0   0\n",
              "32240990           0.07               1           1.00  ...   0   0   0\n",
              "33331821           0.11               1           0.30  ...   0   0   0\n",
              "33200505           0.44               1           0.20  ...   0   0   0\n",
              "32527480           0.45               1           0.10  ...   0   1   0\n",
              "\n",
              "[5 rows x 18 columns]"
            ]
          },
          "metadata": {},
          "execution_count": 282
        }
      ]
    },
    {
      "cell_type": "code",
      "metadata": {
        "colab": {
          "base_uri": "https://localhost:8080/"
        },
        "id": "riFFx8NDWnDy",
        "outputId": "f87c0279-1d71-4dec-b10c-dc6084f234ac"
      },
      "source": [
        "dftest.shape"
      ],
      "execution_count": null,
      "outputs": [
        {
          "output_type": "execute_result",
          "data": {
            "text/plain": [
              "(30, 18)"
            ]
          },
          "metadata": {},
          "execution_count": 262
        }
      ]
    },
    {
      "cell_type": "code",
      "metadata": {
        "colab": {
          "base_uri": "https://localhost:8080/",
          "height": 258
        },
        "id": "XdsWquJrW7yL",
        "outputId": "4b12bbbd-bf4c-432e-c7a3-9c440270c2e8"
      },
      "source": [
        "df.head()"
      ],
      "execution_count": null,
      "outputs": [
        {
          "output_type": "execute_result",
          "data": {
            "text/html": [
              "<div>\n",
              "<style scoped>\n",
              "    .dataframe tbody tr th:only-of-type {\n",
              "        vertical-align: middle;\n",
              "    }\n",
              "\n",
              "    .dataframe tbody tr th {\n",
              "        vertical-align: top;\n",
              "    }\n",
              "\n",
              "    .dataframe thead th {\n",
              "        text-align: right;\n",
              "    }\n",
              "</style>\n",
              "<table border=\"1\" class=\"dataframe\">\n",
              "  <thead>\n",
              "    <tr style=\"text-align: right;\">\n",
              "      <th></th>\n",
              "      <th>store_address</th>\n",
              "      <th>payment_status</th>\n",
              "      <th>n_of_products</th>\n",
              "      <th>products_total</th>\n",
              "      <th>hour_sin</th>\n",
              "      <th>hour_cos</th>\n",
              "      <th>AR</th>\n",
              "      <th>BR</th>\n",
              "      <th>CI</th>\n",
              "      <th>CL</th>\n",
              "      <th>CR</th>\n",
              "      <th>DO</th>\n",
              "      <th>EC</th>\n",
              "      <th>EG</th>\n",
              "      <th>ES</th>\n",
              "      <th>FR</th>\n",
              "      <th>GE</th>\n",
              "      <th>GT</th>\n",
              "      <th>IT</th>\n",
              "      <th>KE</th>\n",
              "      <th>MA</th>\n",
              "      <th>PA</th>\n",
              "      <th>PE</th>\n",
              "      <th>PR</th>\n",
              "      <th>PT</th>\n",
              "      <th>RO</th>\n",
              "      <th>TR</th>\n",
              "      <th>UA</th>\n",
              "      <th>UY</th>\n",
              "      <th>final_status</th>\n",
              "    </tr>\n",
              "    <tr>\n",
              "      <th>order_id</th>\n",
              "      <th></th>\n",
              "      <th></th>\n",
              "      <th></th>\n",
              "      <th></th>\n",
              "      <th></th>\n",
              "      <th></th>\n",
              "      <th></th>\n",
              "      <th></th>\n",
              "      <th></th>\n",
              "      <th></th>\n",
              "      <th></th>\n",
              "      <th></th>\n",
              "      <th></th>\n",
              "      <th></th>\n",
              "      <th></th>\n",
              "      <th></th>\n",
              "      <th></th>\n",
              "      <th></th>\n",
              "      <th></th>\n",
              "      <th></th>\n",
              "      <th></th>\n",
              "      <th></th>\n",
              "      <th></th>\n",
              "      <th></th>\n",
              "      <th></th>\n",
              "      <th></th>\n",
              "      <th></th>\n",
              "      <th></th>\n",
              "      <th></th>\n",
              "      <th></th>\n",
              "    </tr>\n",
              "  </thead>\n",
              "  <tbody>\n",
              "    <tr>\n",
              "      <th>33446280</th>\n",
              "      <td>0.74</td>\n",
              "      <td>1.00</td>\n",
              "      <td>0.03</td>\n",
              "      <td>0.05</td>\n",
              "      <td>-0.50</td>\n",
              "      <td>-0.50</td>\n",
              "      <td>1</td>\n",
              "      <td>0</td>\n",
              "      <td>0</td>\n",
              "      <td>0</td>\n",
              "      <td>0</td>\n",
              "      <td>0</td>\n",
              "      <td>0</td>\n",
              "      <td>0</td>\n",
              "      <td>0</td>\n",
              "      <td>0</td>\n",
              "      <td>0</td>\n",
              "      <td>0</td>\n",
              "      <td>0</td>\n",
              "      <td>0</td>\n",
              "      <td>0</td>\n",
              "      <td>0</td>\n",
              "      <td>0</td>\n",
              "      <td>0</td>\n",
              "      <td>0</td>\n",
              "      <td>0</td>\n",
              "      <td>0</td>\n",
              "      <td>0</td>\n",
              "      <td>0</td>\n",
              "      <td>0</td>\n",
              "    </tr>\n",
              "    <tr>\n",
              "      <th>33107339</th>\n",
              "      <td>0.31</td>\n",
              "      <td>1.00</td>\n",
              "      <td>0.03</td>\n",
              "      <td>0.02</td>\n",
              "      <td>0.26</td>\n",
              "      <td>0.26</td>\n",
              "      <td>0</td>\n",
              "      <td>0</td>\n",
              "      <td>0</td>\n",
              "      <td>0</td>\n",
              "      <td>0</td>\n",
              "      <td>0</td>\n",
              "      <td>0</td>\n",
              "      <td>0</td>\n",
              "      <td>0</td>\n",
              "      <td>0</td>\n",
              "      <td>0</td>\n",
              "      <td>0</td>\n",
              "      <td>0</td>\n",
              "      <td>0</td>\n",
              "      <td>0</td>\n",
              "      <td>0</td>\n",
              "      <td>0</td>\n",
              "      <td>0</td>\n",
              "      <td>0</td>\n",
              "      <td>0</td>\n",
              "      <td>0</td>\n",
              "      <td>0</td>\n",
              "      <td>0</td>\n",
              "      <td>0</td>\n",
              "    </tr>\n",
              "    <tr>\n",
              "      <th>32960645</th>\n",
              "      <td>0.83</td>\n",
              "      <td>1.00</td>\n",
              "      <td>0.00</td>\n",
              "      <td>0.03</td>\n",
              "      <td>0.26</td>\n",
              "      <td>0.26</td>\n",
              "      <td>0</td>\n",
              "      <td>0</td>\n",
              "      <td>0</td>\n",
              "      <td>0</td>\n",
              "      <td>0</td>\n",
              "      <td>0</td>\n",
              "      <td>0</td>\n",
              "      <td>0</td>\n",
              "      <td>0</td>\n",
              "      <td>0</td>\n",
              "      <td>0</td>\n",
              "      <td>0</td>\n",
              "      <td>0</td>\n",
              "      <td>0</td>\n",
              "      <td>0</td>\n",
              "      <td>0</td>\n",
              "      <td>0</td>\n",
              "      <td>0</td>\n",
              "      <td>0</td>\n",
              "      <td>0</td>\n",
              "      <td>0</td>\n",
              "      <td>0</td>\n",
              "      <td>0</td>\n",
              "      <td>0</td>\n",
              "    </tr>\n",
              "    <tr>\n",
              "      <th>32089564</th>\n",
              "      <td>0.39</td>\n",
              "      <td>1.00</td>\n",
              "      <td>0.13</td>\n",
              "      <td>0.03</td>\n",
              "      <td>-0.87</td>\n",
              "      <td>-0.87</td>\n",
              "      <td>0</td>\n",
              "      <td>0</td>\n",
              "      <td>0</td>\n",
              "      <td>0</td>\n",
              "      <td>0</td>\n",
              "      <td>0</td>\n",
              "      <td>0</td>\n",
              "      <td>0</td>\n",
              "      <td>1</td>\n",
              "      <td>0</td>\n",
              "      <td>0</td>\n",
              "      <td>0</td>\n",
              "      <td>0</td>\n",
              "      <td>0</td>\n",
              "      <td>0</td>\n",
              "      <td>0</td>\n",
              "      <td>0</td>\n",
              "      <td>0</td>\n",
              "      <td>0</td>\n",
              "      <td>0</td>\n",
              "      <td>0</td>\n",
              "      <td>0</td>\n",
              "      <td>0</td>\n",
              "      <td>0</td>\n",
              "    </tr>\n",
              "    <tr>\n",
              "      <th>32157739</th>\n",
              "      <td>0.18</td>\n",
              "      <td>1.00</td>\n",
              "      <td>0.00</td>\n",
              "      <td>0.02</td>\n",
              "      <td>-0.71</td>\n",
              "      <td>-0.71</td>\n",
              "      <td>1</td>\n",
              "      <td>0</td>\n",
              "      <td>0</td>\n",
              "      <td>0</td>\n",
              "      <td>0</td>\n",
              "      <td>0</td>\n",
              "      <td>0</td>\n",
              "      <td>0</td>\n",
              "      <td>0</td>\n",
              "      <td>0</td>\n",
              "      <td>0</td>\n",
              "      <td>0</td>\n",
              "      <td>0</td>\n",
              "      <td>0</td>\n",
              "      <td>0</td>\n",
              "      <td>0</td>\n",
              "      <td>0</td>\n",
              "      <td>0</td>\n",
              "      <td>0</td>\n",
              "      <td>0</td>\n",
              "      <td>0</td>\n",
              "      <td>0</td>\n",
              "      <td>0</td>\n",
              "      <td>0</td>\n",
              "    </tr>\n",
              "  </tbody>\n",
              "</table>\n",
              "</div>"
            ],
            "text/plain": [
              "          store_address  payment_status  n_of_products  ...  UA  UY  final_status\n",
              "order_id                                                ...                      \n",
              "33446280           0.74            1.00           0.03  ...   0   0             0\n",
              "33107339           0.31            1.00           0.03  ...   0   0             0\n",
              "32960645           0.83            1.00           0.00  ...   0   0             0\n",
              "32089564           0.39            1.00           0.13  ...   0   0             0\n",
              "32157739           0.18            1.00           0.00  ...   0   0             0\n",
              "\n",
              "[5 rows x 30 columns]"
            ]
          },
          "metadata": {},
          "execution_count": 259
        }
      ]
    },
    {
      "cell_type": "code",
      "metadata": {
        "colab": {
          "base_uri": "https://localhost:8080/"
        },
        "id": "dlHoVAaOXD4m",
        "outputId": "5700a87a-d560-4a1e-89b9-a07bfcdc45f8"
      },
      "source": [
        "df.shape"
      ],
      "execution_count": null,
      "outputs": [
        {
          "output_type": "execute_result",
          "data": {
            "text/plain": [
              "(54330, 29)"
            ]
          },
          "metadata": {},
          "execution_count": 179
        }
      ]
    },
    {
      "cell_type": "markdown",
      "metadata": {
        "id": "-E1uFg3AoJ2J"
      },
      "source": [
        "### Apply LazyClassifier to find the bes ML model"
      ]
    },
    {
      "cell_type": "code",
      "metadata": {
        "id": "daAxMfggWagZ"
      },
      "source": [
        "import sklearn\n",
        "from sklearn.utils._testing import ignore_warnings\n",
        "from sklearn.model_selection import train_test_split\n",
        "\n",
        "from sklearn import metrics\n",
        "from sklearn.metrics import f1_score, precision_score"
      ],
      "execution_count": null,
      "outputs": []
    },
    {
      "cell_type": "code",
      "metadata": {
        "id": "eOIkLDz92j1b"
      },
      "source": [
        "import lazypredict\n",
        "from lazypredict.Supervised import LazyClassifier"
      ],
      "execution_count": null,
      "outputs": []
    },
    {
      "cell_type": "code",
      "metadata": {
        "id": "k8C3VhKpAD7h"
      },
      "source": [
        "dfsmall = df.sample(frac =.2)"
      ],
      "execution_count": null,
      "outputs": []
    },
    {
      "cell_type": "code",
      "metadata": {
        "id": "3-llzL1blHGA"
      },
      "source": [
        "target_column = ['final_status'] \n",
        "predictors = list(set(list(dfsmall.columns))-set(target_column))"
      ],
      "execution_count": null,
      "outputs": []
    },
    {
      "cell_type": "code",
      "metadata": {
        "id": "4qzUxN39lHAq",
        "colab": {
          "base_uri": "https://localhost:8080/"
        },
        "outputId": "f343767f-263c-4a71-967c-092033da6ef8"
      },
      "source": [
        "X = dfsmall[predictors].values\n",
        "y = dfsmall[target_column].values\n",
        "\n",
        "X_train, X_test, y_train, y_test = train_test_split(X, y, test_size=0.20, random_state=40)\n",
        "print(X_train.shape); print(X_test.shape)"
      ],
      "execution_count": null,
      "outputs": [
        {
          "output_type": "stream",
          "name": "stdout",
          "text": [
            "(8692, 29)\n",
            "(2174, 29)\n"
          ]
        }
      ]
    },
    {
      "cell_type": "code",
      "metadata": {
        "id": "zRgRKNW8ogBC"
      },
      "source": [
        "#Apply SMOTE to balance oversampling\n",
        "\n",
        "from imblearn.over_sampling import SMOTE\n",
        "sm = SMOTE(random_state=42)\n",
        "X_sm, y_sm = sm.fit_resample(X_train, y_train)"
      ],
      "execution_count": null,
      "outputs": []
    },
    {
      "cell_type": "code",
      "metadata": {
        "colab": {
          "base_uri": "https://localhost:8080/"
        },
        "id": "Z3-u9YFW6Gq-",
        "outputId": "f7d22d60-9619-4da6-e7a9-bd8574283e01"
      },
      "source": [
        "(unique, counts) = np.unique(y_sm, return_counts=True)\n",
        "frequencies = np.asarray((unique, counts)).T\n",
        "frequencies"
      ],
      "execution_count": null,
      "outputs": [
        {
          "output_type": "execute_result",
          "data": {
            "text/plain": [
              "array([[   0, 7779],\n",
              "       [   1, 7779]])"
            ]
          },
          "metadata": {},
          "execution_count": 197
        }
      ]
    },
    {
      "cell_type": "code",
      "metadata": {
        "id": "PvhYYI_-t6kv"
      },
      "source": [
        "clf = LazyClassifier(verbose=0,ignore_warnings=True, custom_metric=None)"
      ],
      "execution_count": null,
      "outputs": []
    },
    {
      "cell_type": "code",
      "metadata": {
        "id": "ecq_iHDslG2E",
        "colab": {
          "base_uri": "https://localhost:8080/"
        },
        "outputId": "1e3c646a-35e3-4bfd-ae1d-bc42599593e2"
      },
      "source": [
        "models,predictions = clf.fit(X_sm ,X_test, y_sm, y_test)"
      ],
      "execution_count": null,
      "outputs": [
        {
          "output_type": "stream",
          "name": "stderr",
          "text": [
            "100%|██████████| 29/29 [02:08<00:00,  4.44s/it]\n"
          ]
        }
      ]
    },
    {
      "cell_type": "code",
      "metadata": {
        "id": "YReX4oBGBAVh"
      },
      "source": [
        "lazies=models.to_dict()"
      ],
      "execution_count": null,
      "outputs": []
    },
    {
      "cell_type": "code",
      "metadata": {
        "id": "18ViySf9BAOU"
      },
      "source": [
        "dflazy=pd.DataFrame.from_dict(lazies)"
      ],
      "execution_count": null,
      "outputs": []
    },
    {
      "cell_type": "code",
      "metadata": {
        "colab": {
          "base_uri": "https://localhost:8080/",
          "height": 896
        },
        "id": "6ujH9pkEBAGp",
        "outputId": "aa749fd7-35ae-4a9e-ebce-1b2c8f66bedc"
      },
      "source": [
        "dflazy=dflazy.sort_values(by='F1 Score', ascending=False)\n",
        "dflazy"
      ],
      "execution_count": null,
      "outputs": [
        {
          "output_type": "execute_result",
          "data": {
            "text/html": [
              "<div>\n",
              "<style scoped>\n",
              "    .dataframe tbody tr th:only-of-type {\n",
              "        vertical-align: middle;\n",
              "    }\n",
              "\n",
              "    .dataframe tbody tr th {\n",
              "        vertical-align: top;\n",
              "    }\n",
              "\n",
              "    .dataframe thead th {\n",
              "        text-align: right;\n",
              "    }\n",
              "</style>\n",
              "<table border=\"1\" class=\"dataframe\">\n",
              "  <thead>\n",
              "    <tr style=\"text-align: right;\">\n",
              "      <th></th>\n",
              "      <th>Accuracy</th>\n",
              "      <th>Balanced Accuracy</th>\n",
              "      <th>ROC AUC</th>\n",
              "      <th>F1 Score</th>\n",
              "      <th>Time Taken</th>\n",
              "    </tr>\n",
              "  </thead>\n",
              "  <tbody>\n",
              "    <tr>\n",
              "      <th>XGBClassifier</th>\n",
              "      <td>0.85</td>\n",
              "      <td>0.53</td>\n",
              "      <td>0.53</td>\n",
              "      <td>0.84</td>\n",
              "      <td>2.30</td>\n",
              "    </tr>\n",
              "    <tr>\n",
              "      <th>LGBMClassifier</th>\n",
              "      <td>0.86</td>\n",
              "      <td>0.51</td>\n",
              "      <td>0.51</td>\n",
              "      <td>0.84</td>\n",
              "      <td>0.50</td>\n",
              "    </tr>\n",
              "    <tr>\n",
              "      <th>RandomForestClassifier</th>\n",
              "      <td>0.83</td>\n",
              "      <td>0.53</td>\n",
              "      <td>0.53</td>\n",
              "      <td>0.83</td>\n",
              "      <td>2.17</td>\n",
              "    </tr>\n",
              "    <tr>\n",
              "      <th>BaggingClassifier</th>\n",
              "      <td>0.82</td>\n",
              "      <td>0.52</td>\n",
              "      <td>0.52</td>\n",
              "      <td>0.82</td>\n",
              "      <td>0.65</td>\n",
              "    </tr>\n",
              "    <tr>\n",
              "      <th>ExtraTreesClassifier</th>\n",
              "      <td>0.81</td>\n",
              "      <td>0.53</td>\n",
              "      <td>0.53</td>\n",
              "      <td>0.82</td>\n",
              "      <td>1.77</td>\n",
              "    </tr>\n",
              "    <tr>\n",
              "      <th>AdaBoostClassifier</th>\n",
              "      <td>0.80</td>\n",
              "      <td>0.52</td>\n",
              "      <td>0.52</td>\n",
              "      <td>0.81</td>\n",
              "      <td>0.94</td>\n",
              "    </tr>\n",
              "    <tr>\n",
              "      <th>DecisionTreeClassifier</th>\n",
              "      <td>0.80</td>\n",
              "      <td>0.53</td>\n",
              "      <td>0.53</td>\n",
              "      <td>0.81</td>\n",
              "      <td>0.14</td>\n",
              "    </tr>\n",
              "    <tr>\n",
              "      <th>PassiveAggressiveClassifier</th>\n",
              "      <td>0.78</td>\n",
              "      <td>0.51</td>\n",
              "      <td>0.51</td>\n",
              "      <td>0.80</td>\n",
              "      <td>0.08</td>\n",
              "    </tr>\n",
              "    <tr>\n",
              "      <th>ExtraTreeClassifier</th>\n",
              "      <td>0.75</td>\n",
              "      <td>0.55</td>\n",
              "      <td>0.55</td>\n",
              "      <td>0.79</td>\n",
              "      <td>0.06</td>\n",
              "    </tr>\n",
              "    <tr>\n",
              "      <th>Perceptron</th>\n",
              "      <td>0.67</td>\n",
              "      <td>0.55</td>\n",
              "      <td>0.55</td>\n",
              "      <td>0.73</td>\n",
              "      <td>0.09</td>\n",
              "    </tr>\n",
              "    <tr>\n",
              "      <th>LabelPropagation</th>\n",
              "      <td>0.67</td>\n",
              "      <td>0.55</td>\n",
              "      <td>0.55</td>\n",
              "      <td>0.73</td>\n",
              "      <td>11.71</td>\n",
              "    </tr>\n",
              "    <tr>\n",
              "      <th>LabelSpreading</th>\n",
              "      <td>0.66</td>\n",
              "      <td>0.55</td>\n",
              "      <td>0.55</td>\n",
              "      <td>0.73</td>\n",
              "      <td>18.76</td>\n",
              "    </tr>\n",
              "    <tr>\n",
              "      <th>KNeighborsClassifier</th>\n",
              "      <td>0.66</td>\n",
              "      <td>0.55</td>\n",
              "      <td>0.55</td>\n",
              "      <td>0.72</td>\n",
              "      <td>2.27</td>\n",
              "    </tr>\n",
              "    <tr>\n",
              "      <th>SVC</th>\n",
              "      <td>0.63</td>\n",
              "      <td>0.57</td>\n",
              "      <td>0.57</td>\n",
              "      <td>0.71</td>\n",
              "      <td>21.41</td>\n",
              "    </tr>\n",
              "    <tr>\n",
              "      <th>NearestCentroid</th>\n",
              "      <td>0.63</td>\n",
              "      <td>0.55</td>\n",
              "      <td>0.55</td>\n",
              "      <td>0.70</td>\n",
              "      <td>0.07</td>\n",
              "    </tr>\n",
              "    <tr>\n",
              "      <th>BernoulliNB</th>\n",
              "      <td>0.62</td>\n",
              "      <td>0.57</td>\n",
              "      <td>0.57</td>\n",
              "      <td>0.70</td>\n",
              "      <td>0.06</td>\n",
              "    </tr>\n",
              "    <tr>\n",
              "      <th>RidgeClassifierCV</th>\n",
              "      <td>0.60</td>\n",
              "      <td>0.56</td>\n",
              "      <td>0.56</td>\n",
              "      <td>0.68</td>\n",
              "      <td>0.10</td>\n",
              "    </tr>\n",
              "    <tr>\n",
              "      <th>RidgeClassifier</th>\n",
              "      <td>0.60</td>\n",
              "      <td>0.56</td>\n",
              "      <td>0.56</td>\n",
              "      <td>0.68</td>\n",
              "      <td>0.07</td>\n",
              "    </tr>\n",
              "    <tr>\n",
              "      <th>LinearDiscriminantAnalysis</th>\n",
              "      <td>0.60</td>\n",
              "      <td>0.56</td>\n",
              "      <td>0.56</td>\n",
              "      <td>0.68</td>\n",
              "      <td>0.19</td>\n",
              "    </tr>\n",
              "    <tr>\n",
              "      <th>CalibratedClassifierCV</th>\n",
              "      <td>0.60</td>\n",
              "      <td>0.56</td>\n",
              "      <td>0.56</td>\n",
              "      <td>0.68</td>\n",
              "      <td>11.53</td>\n",
              "    </tr>\n",
              "    <tr>\n",
              "      <th>LogisticRegression</th>\n",
              "      <td>0.60</td>\n",
              "      <td>0.56</td>\n",
              "      <td>0.56</td>\n",
              "      <td>0.68</td>\n",
              "      <td>0.12</td>\n",
              "    </tr>\n",
              "    <tr>\n",
              "      <th>LinearSVC</th>\n",
              "      <td>0.60</td>\n",
              "      <td>0.56</td>\n",
              "      <td>0.56</td>\n",
              "      <td>0.68</td>\n",
              "      <td>3.47</td>\n",
              "    </tr>\n",
              "    <tr>\n",
              "      <th>NuSVC</th>\n",
              "      <td>0.59</td>\n",
              "      <td>0.51</td>\n",
              "      <td>0.51</td>\n",
              "      <td>0.67</td>\n",
              "      <td>49.75</td>\n",
              "    </tr>\n",
              "    <tr>\n",
              "      <th>SGDClassifier</th>\n",
              "      <td>0.55</td>\n",
              "      <td>0.53</td>\n",
              "      <td>0.53</td>\n",
              "      <td>0.64</td>\n",
              "      <td>0.22</td>\n",
              "    </tr>\n",
              "    <tr>\n",
              "      <th>DummyClassifier</th>\n",
              "      <td>0.50</td>\n",
              "      <td>0.52</td>\n",
              "      <td>0.52</td>\n",
              "      <td>0.59</td>\n",
              "      <td>0.04</td>\n",
              "    </tr>\n",
              "    <tr>\n",
              "      <th>QuadraticDiscriminantAnalysis</th>\n",
              "      <td>0.41</td>\n",
              "      <td>0.47</td>\n",
              "      <td>0.47</td>\n",
              "      <td>0.51</td>\n",
              "      <td>0.10</td>\n",
              "    </tr>\n",
              "    <tr>\n",
              "      <th>GaussianNB</th>\n",
              "      <td>0.11</td>\n",
              "      <td>0.49</td>\n",
              "      <td>0.49</td>\n",
              "      <td>0.04</td>\n",
              "      <td>0.05</td>\n",
              "    </tr>\n",
              "  </tbody>\n",
              "</table>\n",
              "</div>"
            ],
            "text/plain": [
              "                               Accuracy  ...  Time Taken\n",
              "XGBClassifier                      0.85  ...        2.30\n",
              "LGBMClassifier                     0.86  ...        0.50\n",
              "RandomForestClassifier             0.83  ...        2.17\n",
              "BaggingClassifier                  0.82  ...        0.65\n",
              "ExtraTreesClassifier               0.81  ...        1.77\n",
              "AdaBoostClassifier                 0.80  ...        0.94\n",
              "DecisionTreeClassifier             0.80  ...        0.14\n",
              "PassiveAggressiveClassifier        0.78  ...        0.08\n",
              "ExtraTreeClassifier                0.75  ...        0.06\n",
              "Perceptron                         0.67  ...        0.09\n",
              "LabelPropagation                   0.67  ...       11.71\n",
              "LabelSpreading                     0.66  ...       18.76\n",
              "KNeighborsClassifier               0.66  ...        2.27\n",
              "SVC                                0.63  ...       21.41\n",
              "NearestCentroid                    0.63  ...        0.07\n",
              "BernoulliNB                        0.62  ...        0.06\n",
              "RidgeClassifierCV                  0.60  ...        0.10\n",
              "RidgeClassifier                    0.60  ...        0.07\n",
              "LinearDiscriminantAnalysis         0.60  ...        0.19\n",
              "CalibratedClassifierCV             0.60  ...       11.53\n",
              "LogisticRegression                 0.60  ...        0.12\n",
              "LinearSVC                          0.60  ...        3.47\n",
              "NuSVC                              0.59  ...       49.75\n",
              "SGDClassifier                      0.55  ...        0.22\n",
              "DummyClassifier                    0.50  ...        0.04\n",
              "QuadraticDiscriminantAnalysis      0.41  ...        0.10\n",
              "GaussianNB                         0.11  ...        0.05\n",
              "\n",
              "[27 rows x 5 columns]"
            ]
          },
          "metadata": {},
          "execution_count": 32
        }
      ]
    },
    {
      "cell_type": "markdown",
      "metadata": {
        "id": "cnQAXm5zC4on"
      },
      "source": [
        "### LGBMClassifier"
      ]
    },
    {
      "cell_type": "code",
      "metadata": {
        "id": "w8YvHO6uA_-K"
      },
      "source": [
        "import lightgbm as ltb\n"
      ],
      "execution_count": null,
      "outputs": []
    },
    {
      "cell_type": "code",
      "metadata": {
        "id": "qcuhIkdbDUxV"
      },
      "source": [
        "fit_params={\"early_stopping_rounds\":30, \n",
        "            \"eval_metric\" : 'auc', \n",
        "            \"eval_set\" : [(X_test,y_test)],\n",
        "            'eval_names': ['valid'],\n",
        "            #'callbacks': [lgb.reset_parameter(learning_rate=learning_rate_010_decay_power_099)],\n",
        "            'verbose': 100,\n",
        "            'categorical_feature': 'auto'}"
      ],
      "execution_count": null,
      "outputs": []
    },
    {
      "cell_type": "code",
      "metadata": {
        "id": "cDpErX7OQJLQ"
      },
      "source": [
        "n_HP_points_to_test = 100\n",
        "\n",
        "import lightgbm as lgb\n",
        "from sklearn.model_selection import RandomizedSearchCV, GridSearchCV\n",
        "\n",
        "#n_estimators is set to a \"large value\". The actual number of trees build will depend on early stopping and 5000 define only the absolute maximum\n",
        "clf = lgb.LGBMClassifier(max_depth=-1, random_state=314, silent=True, metric='None', n_jobs=4, n_estimators=5000)\n",
        "gs = RandomizedSearchCV(\n",
        "    estimator=clf, param_distributions=param_test, \n",
        "    n_iter=n_HP_points_to_test,\n",
        "    scoring='roc_auc',\n",
        "    cv=3,\n",
        "    refit=True,\n",
        "    random_state=314,\n",
        "    verbose=True)\n",
        "\n",
        "gs.fit(X_sm, y_sm, **fit_params)\n",
        "print('Best score reached: {} with params: {} '.format(gs.best_score_, gs.best_params_))"
      ],
      "execution_count": null,
      "outputs": []
    },
    {
      "cell_type": "code",
      "metadata": {
        "id": "7mO4SwB6DUvm"
      },
      "source": [
        "opt_parameters = {'colsample_bytree': 0.952164731370897,\n",
        "                  'min_child_samples': 111,\n",
        "                  'min_child_weight': 0.01,\n",
        "                  'num_leaves': 38,\n",
        "                  'reg_alpha': 0,\n",
        "                  'reg_lambda': 0.1,\n",
        "                  'subsample': 0.3029313662262354}\n",
        "\n",
        "model = ltb.LGBMClassifier(**opt_parameters)\n",
        "model.fit(X_sm, y_sm)\n",
        "\n",
        "expected_y  = y_test\n",
        "predicted_y = model.predict(X_test)"
      ],
      "execution_count": null,
      "outputs": []
    },
    {
      "cell_type": "code",
      "metadata": {
        "colab": {
          "base_uri": "https://localhost:8080/",
          "height": 283
        },
        "id": "gbufmKU5DUs4",
        "outputId": "9634c67f-3aa1-49c8-8ace-3f43fd55a0fa"
      },
      "source": [
        "from sklearn.metrics import confusion_matrix\n",
        "cm = confusion_matrix(y_test, predicted_y)\n",
        "\n",
        "cm_matrix = pd.DataFrame(data=cm, columns=['Actual Positive:1', 'Actual Negative:0'], index=['Predict Positive:1', 'Predict Negative:0'])\n",
        "\n",
        "sns.heatmap(cm_matrix, annot=True, fmt='d', cmap='YlGnBu')"
      ],
      "execution_count": null,
      "outputs": [
        {
          "output_type": "execute_result",
          "data": {
            "text/plain": [
              "<matplotlib.axes._subplots.AxesSubplot at 0x7f593b8537d0>"
            ]
          },
          "metadata": {},
          "execution_count": 225
        },
        {
          "output_type": "display_data",
          "data": {
            "image/png": "[encoded data removed]",
            "text/plain": [
              "<Figure size 432x288 with 2 Axes>"
            ]
          },
          "metadata": {
            "needs_background": "light"
          }
        }
      ]
    },
    {
      "cell_type": "code",
      "metadata": {
        "colab": {
          "base_uri": "https://localhost:8080/"
        },
        "id": "F_88ByQ4DUqP",
        "outputId": "9b0c801d-335c-4f24-efed-d204d0002c62"
      },
      "source": [
        "print('F1 Score: %.3f' % f1_score(y_test, predicted_y))\n",
        "print('Precision Score: %.3f' % precision_score(y_test, predicted_y))"
      ],
      "execution_count": null,
      "outputs": [
        {
          "output_type": "stream",
          "name": "stdout",
          "text": [
            "F1 Score: 0.920\n",
            "Precision Score: 0.892\n"
          ]
        }
      ]
    },
    {
      "cell_type": "markdown",
      "metadata": {
        "id": "eLQ0igS2HxXw"
      },
      "source": [
        "# XGBClassifier"
      ]
    },
    {
      "cell_type": "code",
      "metadata": {
        "id": "U7OhvXJ0HEFC"
      },
      "source": [
        "from xgboost import XGBClassifier\n",
        "import xgboost as xgb\n",
        "from sklearn.model_selection import cross_val_score, KFold"
      ],
      "execution_count": null,
      "outputs": []
    },
    {
      "cell_type": "code",
      "metadata": {
        "id": "5xkV-_YyHECi",
        "colab": {
          "base_uri": "https://localhost:8080/"
        },
        "outputId": "45e0b1e1-ecdb-4103-a720-29ca3f486708"
      },
      "source": [
        "xgb_model = xgb.XGBClassifier( random_state=42)\n",
        "xgb_model.fit(X_sm, y_sm)\n",
        "\n",
        "y_pred = xgb_model.predict(X_test)\n",
        "\n",
        "print(confusion_matrix(y_test, y_pred))"
      ],
      "execution_count": null,
      "outputs": [
        {
          "output_type": "stream",
          "name": "stdout",
          "text": [
            "[[  25  222]\n",
            " [  91 1836]]\n"
          ]
        }
      ]
    },
    {
      "cell_type": "code",
      "metadata": {
        "colab": {
          "base_uri": "https://localhost:8080/",
          "height": 283
        },
        "id": "jVrzjrp9PVrE",
        "outputId": "51e74baf-6467-4e0d-bc48-7a2e74b8beee"
      },
      "source": [
        "cm = confusion_matrix(y_test, y_pred)\n",
        "\n",
        "cm_matrix = pd.DataFrame(data=cm, columns=['Actual Positive:1', 'Actual Negative:0'], index=['Predict Positive:1', 'Predict Negative:0'])\n",
        "\n",
        "sns.heatmap(cm_matrix, annot=True, fmt='d', cmap='YlGnBu')"
      ],
      "execution_count": null,
      "outputs": [
        {
          "output_type": "execute_result",
          "data": {
            "text/plain": [
              "<matplotlib.axes._subplots.AxesSubplot at 0x7f593b9936d0>"
            ]
          },
          "metadata": {},
          "execution_count": 218
        },
        {
          "output_type": "display_data",
          "data": {
            "image/png": "[encoded data removed]",
            "text/plain": [
              "<Figure size 432x288 with 2 Axes>"
            ]
          },
          "metadata": {
            "needs_background": "light"
          }
        }
      ]
    },
    {
      "cell_type": "code",
      "metadata": {
        "colab": {
          "base_uri": "https://localhost:8080/"
        },
        "id": "JHS09CySNUY0",
        "outputId": "374eef0a-a29f-455f-b9b5-51382430149d"
      },
      "source": [
        "print('F1 Score: %.3f' % f1_score(y_test, y_pred))\n",
        "print('Precision Score: %.3f' % precision_score(y_test, y_pred))"
      ],
      "execution_count": null,
      "outputs": [
        {
          "output_type": "stream",
          "name": "stdout",
          "text": [
            "F1 Score: 0.921\n",
            "Precision Score: 0.892\n"
          ]
        }
      ]
    },
    {
      "cell_type": "markdown",
      "metadata": {
        "id": "DPw9xkYTWX90"
      },
      "source": [
        "## Random Forest Classification"
      ]
    },
    {
      "cell_type": "code",
      "metadata": {
        "id": "Oxcz97mvSPZZ"
      },
      "source": [
        "from sklearn.ensemble import RandomForestClassifier\n",
        "clf=RandomForestClassifier(n_estimators=100)\n",
        "\n",
        "clf.fit(X_sm,y_sm)\n",
        "\n",
        "y_pred=clf.predict(X_test)"
      ],
      "execution_count": null,
      "outputs": []
    },
    {
      "cell_type": "code",
      "metadata": {
        "colab": {
          "base_uri": "https://localhost:8080/",
          "height": 283
        },
        "id": "xcFV1_ioSPSH",
        "outputId": "59c4c200-a402-423b-c884-664899ee03f8"
      },
      "source": [
        "cm = confusion_matrix(y_test, y_pred)\n",
        "\n",
        "cm_matrix = pd.DataFrame(data=cm, columns=['Actual Positive:1', 'Actual Negative:0'], index=['Predict Positive:1', 'Predict Negative:0'])\n",
        "\n",
        "sns.heatmap(cm_matrix, annot=True, fmt='d', cmap='YlGnBu')"
      ],
      "execution_count": null,
      "outputs": [
        {
          "output_type": "execute_result",
          "data": {
            "text/plain": [
              "<matplotlib.axes._subplots.AxesSubplot at 0x7f593b8c2f10>"
            ]
          },
          "metadata": {},
          "execution_count": 221
        },
        {
          "output_type": "display_data",
          "data": {
            "image/png": "[encoded data removed]",
            "text/plain": [
              "<Figure size 432x288 with 2 Axes>"
            ]
          },
          "metadata": {
            "needs_background": "light"
          }
        }
      ]
    },
    {
      "cell_type": "code",
      "metadata": {
        "colab": {
          "base_uri": "https://localhost:8080/"
        },
        "id": "3RfG1ENfSPJ2",
        "outputId": "df4cfbf2-6652-4f2f-92a5-75390d7bbb16"
      },
      "source": [
        "print('F1 Score: %.3f' % f1_score(y_test, y_pred))\n",
        "print('Precision Score: %.3f' % precision_score(y_test, y_pred))"
      ],
      "execution_count": null,
      "outputs": [
        {
          "output_type": "stream",
          "name": "stdout",
          "text": [
            "F1 Score: 0.902\n",
            "Precision Score: 0.892\n"
          ]
        }
      ]
    },
    {
      "cell_type": "markdown",
      "metadata": {
        "id": "hfJr85PWS3Bo"
      },
      "source": [
        "AS we are looking for the highest F1 Score will choose the **XGBClassifier** model. \n",
        "If would prefer to mistake a possible cancellation, RandomForestClassifier would probably be a better option because a slighty higher precision"
      ]
    },
    {
      "cell_type": "markdown",
      "metadata": {
        "id": "uCV3BYyHVQkF"
      },
      "source": [
        "# Prediction"
      ]
    },
    {
      "cell_type": "code",
      "metadata": {
        "id": "pZ5whsmXaux2"
      },
      "source": [
        "list1=list(df.columns)"
      ],
      "execution_count": null,
      "outputs": []
    },
    {
      "cell_type": "code",
      "metadata": {
        "id": "1WchmHekazf5"
      },
      "source": [
        "list2=list(dftest.columns)"
      ],
      "execution_count": null,
      "outputs": []
    },
    {
      "cell_type": "code",
      "metadata": {
        "colab": {
          "base_uri": "https://localhost:8080/"
        },
        "id": "C_Bh_Geeb01e",
        "outputId": "f90a461b-9a93-4a15-f890-c9d01627aee3"
      },
      "source": [
        "print(\"Missing values in second list:\", (set(list1).difference(list2)))"
      ],
      "execution_count": null,
      "outputs": [
        {
          "output_type": "stream",
          "name": "stdout",
          "text": [
            "Missing values in second list: {'CI', 'GT', 'CL', 'BR', 'PR', 'KE', 'CR', 'RO', 'GE', 'final_status', 'PT', 'UY'}\n"
          ]
        }
      ]
    },
    {
      "cell_type": "code",
      "metadata": {
        "id": "OGfqgI_4b_WC"
      },
      "source": [
        "newcols=['CI', 'GT', 'CL', 'BR', 'PR', 'KE', 'CR', 'RO', 'GE', 'PT', 'UY']\n",
        "\n",
        "for new in newcols:\n",
        "  dftest[new] = 0"
      ],
      "execution_count": null,
      "outputs": []
    },
    {
      "cell_type": "code",
      "metadata": {
        "id": "T9UeryIXVQHm"
      },
      "source": [
        "# make a prediction\n",
        "ynew = model.predict(dftest)\n",
        "\n",
        "predicciones = pd.DataFrame(data=ynew)\n",
        "predicciones.to_csv('predicciones.csv')"
      ],
      "execution_count": null,
      "outputs": []
    },
    {
      "cell_type": "markdown",
      "metadata": {
        "id": "H2LhNTpipMzz"
      },
      "source": [
        "# Extra Installs"
      ]
    },
    {
      "cell_type": "code",
      "metadata": {
        "colab": {
          "base_uri": "https://localhost:8080/"
        },
        "id": "ddVDQejupSdL",
        "outputId": "1ed425de-d437-422f-9f65-30c3059ec7d1"
      },
      "source": [
        "!pip install imbalanced-learn"
      ],
      "execution_count": null,
      "outputs": [
        {
          "output_type": "stream",
          "name": "stdout",
          "text": [
            "Requirement already satisfied: imbalanced-learn in /usr/local/lib/python3.7/dist-packages (0.8.1)\n",
            "Requirement already satisfied: scipy>=0.19.1 in /usr/local/lib/python3.7/dist-packages (from imbalanced-learn) (1.5.4)\n",
            "Requirement already satisfied: numpy>=1.13.3 in /usr/local/lib/python3.7/dist-packages (from imbalanced-learn) (1.19.1)\n",
            "Collecting scikit-learn>=0.24\n",
            "  Using cached scikit_learn-1.0.1-cp37-cp37m-manylinux_2_12_x86_64.manylinux2010_x86_64.whl (23.2 MB)\n",
            "Requirement already satisfied: joblib>=0.11 in /usr/local/lib/python3.7/dist-packages (from imbalanced-learn) (1.0.0)\n",
            "Requirement already satisfied: threadpoolctl>=2.0.0 in /usr/local/lib/python3.7/dist-packages (from scikit-learn>=0.24->imbalanced-learn) (3.0.0)\n",
            "Installing collected packages: scikit-learn\n",
            "  Attempting uninstall: scikit-learn\n",
            "    Found existing installation: scikit-learn 0.23.1\n",
            "    Uninstalling scikit-learn-0.23.1:\n",
            "      Successfully uninstalled scikit-learn-0.23.1\n",
            "\u001b[31mERROR: pip's dependency resolver does not currently take into account all the packages that are installed. This behaviour is the source of the following dependency conflicts.\n",
            "lazypredict 0.2.9 requires scikit-learn==0.23.1, but you have scikit-learn 1.0.1 which is incompatible.\u001b[0m\n",
            "Successfully installed scikit-learn-1.0.1\n"
          ]
        }
      ]
    },
    {
      "cell_type": "code",
      "metadata": {
        "id": "dlWsbj6Wwtwt",
        "colab": {
          "base_uri": "https://localhost:8080/",
          "height": 658
        },
        "outputId": "f6b872c1-502f-45bc-9185-457241671c7e"
      },
      "source": [
        "!pip install lazypredict "
      ],
      "execution_count": null,
      "outputs": [
        {
          "output_type": "stream",
          "name": "stdout",
          "text": [
            "Collecting lazypredict\n",
            "  Using cached lazypredict-0.2.9-py2.py3-none-any.whl (12 kB)\n",
            "Requirement already satisfied: scipy==1.5.4 in /usr/local/lib/python3.7/dist-packages (from lazypredict) (1.5.4)\n",
            "Requirement already satisfied: six==1.15.0 in /usr/local/lib/python3.7/dist-packages (from lazypredict) (1.15.0)\n",
            "Requirement already satisfied: scikit-learn==0.23.1 in /usr/local/lib/python3.7/dist-packages (from lazypredict) (0.23.1)\n",
            "Requirement already satisfied: PyYAML==5.3.1 in /usr/local/lib/python3.7/dist-packages (from lazypredict) (5.3.1)\n",
            "Requirement already satisfied: pytest==5.4.3 in /usr/local/lib/python3.7/dist-packages (from lazypredict) (5.4.3)\n",
            "Requirement already satisfied: xgboost==1.1.1 in /usr/local/lib/python3.7/dist-packages (from lazypredict) (1.1.1)\n",
            "Requirement already satisfied: lightgbm==2.3.1 in /usr/local/lib/python3.7/dist-packages (from lazypredict) (2.3.1)\n",
            "Requirement already satisfied: joblib==1.0.0 in /usr/local/lib/python3.7/dist-packages (from lazypredict) (1.0.0)\n",
            "Requirement already satisfied: numpy==1.19.1 in /usr/local/lib/python3.7/dist-packages (from lazypredict) (1.19.1)\n",
            "Requirement already satisfied: pandas==1.0.5 in /usr/local/lib/python3.7/dist-packages (from lazypredict) (1.0.5)\n",
            "Requirement already satisfied: tqdm==4.56.0 in /usr/local/lib/python3.7/dist-packages (from lazypredict) (4.56.0)\n",
            "Requirement already satisfied: click==7.1.2 in /usr/local/lib/python3.7/dist-packages (from lazypredict) (7.1.2)\n",
            "Requirement already satisfied: python-dateutil>=2.6.1 in /usr/local/lib/python3.7/dist-packages (from pandas==1.0.5->lazypredict) (2.8.2)\n",
            "Requirement already satisfied: pytz>=2017.2 in /usr/local/lib/python3.7/dist-packages (from pandas==1.0.5->lazypredict) (2018.9)\n",
            "Requirement already satisfied: more-itertools>=4.0.0 in /usr/local/lib/python3.7/dist-packages (from pytest==5.4.3->lazypredict) (8.11.0)\n",
            "Requirement already satisfied: attrs>=17.4.0 in /usr/local/lib/python3.7/dist-packages (from pytest==5.4.3->lazypredict) (21.2.0)\n",
            "Requirement already satisfied: pluggy<1.0,>=0.12 in /usr/local/lib/python3.7/dist-packages (from pytest==5.4.3->lazypredict) (0.13.1)\n",
            "Requirement already satisfied: packaging in /usr/local/lib/python3.7/dist-packages (from pytest==5.4.3->lazypredict) (21.3)\n",
            "Requirement already satisfied: wcwidth in /usr/local/lib/python3.7/dist-packages (from pytest==5.4.3->lazypredict) (0.2.5)\n",
            "Requirement already satisfied: importlib-metadata>=0.12 in /usr/local/lib/python3.7/dist-packages (from pytest==5.4.3->lazypredict) (4.8.2)\n",
            "Requirement already satisfied: py>=1.5.0 in /usr/local/lib/python3.7/dist-packages (from pytest==5.4.3->lazypredict) (1.11.0)\n",
            "Requirement already satisfied: threadpoolctl>=2.0.0 in /usr/local/lib/python3.7/dist-packages (from scikit-learn==0.23.1->lazypredict) (3.0.0)\n",
            "Requirement already satisfied: typing-extensions>=3.6.4 in /usr/local/lib/python3.7/dist-packages (from importlib-metadata>=0.12->pytest==5.4.3->lazypredict) (3.10.0.2)\n",
            "Requirement already satisfied: zipp>=0.5 in /usr/local/lib/python3.7/dist-packages (from importlib-metadata>=0.12->pytest==5.4.3->lazypredict) (3.6.0)\n",
            "Requirement already satisfied: pyparsing!=3.0.5,>=2.0.2 in /usr/local/lib/python3.7/dist-packages (from packaging->pytest==5.4.3->lazypredict) (3.0.6)\n",
            "Installing collected packages: lazypredict\n",
            "Successfully installed lazypredict-0.2.9\n"
          ]
        },
        {
          "output_type": "display_data",
          "data": {
            "application/vnd.colab-display-data+json": {
              "pip_warning": {
                "packages": [
                  "lazypredict"
                ]
              }
            }
          },
          "metadata": {}
        }
      ]
    },
    {
      "cell_type": "code",
      "metadata": {
        "id": "hPKj2XOLzvyi"
      },
      "source": [
        ""
      ],
      "execution_count": null,
      "outputs": []
    }
  ]
}